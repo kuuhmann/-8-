{
 "cells": [
  {
   "cell_type": "markdown",
   "metadata": {
    "id": "2fbnBi8op48h"
   },
   "source": [
    "1.Розробити за допомогою бібліотеки surprise рекомендаційну систему.\n",
    "Використати датасет   movielens-100k. Для кращого розуміння роздрукуйте датасет."
   ]
  },
  {
   "cell_type": "code",
   "execution_count": null,
   "metadata": {
    "id": "iWK2sQiSp5dx"
   },
   "outputs": [],
   "source": [
    "#!pip install scikit-surprise\n",
    "import numpy as np\n",
    "import pandas as pd\n",
    "from surprise import Dataset, Reader, SVD, SVDpp, NMF, KNNBasic\n",
    "from surprise.model_selection import cross_validate\n",
    "import matplotlib.pyplot as plt\n",
    "\n",
    "data = Dataset.load_builtin('ml-100k')\n",
    "df = pd.DataFrame(data.raw_ratings, columns=['user', 'item', 'rating', 'timestamp'])\n",
    "print(df.head())"
   ]
  },
  {
   "cell_type": "markdown",
   "metadata": {
    "id": "nYirv3lyqkQQ"
   },
   "source": [
    "2. Використайте алгоритми SVD, SVDpp, NMF  + ще два на власний вибір.\n",
    "Найкращі параметри для всіх алгоритмів підберіть за допомогою крос-валідації.\n",
    "Крос-валідація використовується для оцінки того, наскільки добре ці алгоритми працюють на вашому датасеті.\n",
    "Обчисліть середнє значення середньоквадратичної помилки RMSE для кожного алгоритму на основі результатів крос-валідації.\n",
    "RMSE вказує на середню помилку у передбаченнях алгоритму.\n",
    "Зазвичай, алгоритм з найменшим значенням RMSE вважається найкращим для даного завдання рекомендації."
   ]
  },
  {
   "cell_type": "code",
   "execution_count": null,
   "metadata": {
    "colab": {
     "base_uri": "https://localhost:8080/"
    },
    "id": "p_EFofjSqPeB",
    "outputId": "14148b71-7b31-48ca-fa13-890cf7d47b8f"
   },
   "outputs": [
    {
     "name": "stdout",
     "output_type": "stream",
     "text": [
      "Computing the cosine similarity matrix...\n",
      "Done computing similarity matrix.\n",
      "Computing the cosine similarity matrix...\n",
      "Done computing similarity matrix.\n",
      "Computing the cosine similarity matrix...\n",
      "Done computing similarity matrix.\n",
      "Computing the cosine similarity matrix...\n",
      "Done computing similarity matrix.\n",
      "Computing the cosine similarity matrix...\n",
      "Done computing similarity matrix.\n"
     ]
    }
   ],
   "source": [
    "reader = Reader(rating_scale=(1, 5))\n",
    "data = Dataset.load_from_df(df[['user', 'item', 'rating']], reader)\n",
    "\n",
    "# Оголошення алгоритмів, які ми хочемо порівняти\n",
    "algorithms = [SVD(), SVDpp(), NMF(), KNNBasic(sim_options={'name': 'cosine', 'user_based': False}),\n",
    "              KNNBasic(sim_options={'name': 'cosine', 'user_based': True})]\n",
    "\n",
    "algorithm_names = ['SVD', 'SVDpp', 'NMF', 'KNN Item-based', 'KNN User-based']\n",
    "rmse_values = []\n",
    "\n",
    "# Проведення крос-валідації та збереження RMSE\n",
    "for algorithm in algorithms:\n",
    "    results = cross_validate(algorithm, data, measures=['RMSE'], cv=5, verbose=False)\n",
    "    rmse_mean = np.mean(results['test_rmse'])\n",
    "    rmse_values.append(rmse_mean)\n",
    "\n",
    "# Візуалізація RMSE для кожного алгоритму\n",
    "plt.figure(figsize=(10, 6))\n",
    "plt.barh(algorithm_names, rmse_values, color='skyblue')\n",
    "plt.xlabel('RMSE')\n",
    "plt.title('Порівняння RMSE для різних алгоритмів')\n",
    "plt.xlim(0.7, 1.0)\n",
    "plt.grid(axis='x', linestyle='--', alpha=0.6)\n",
    "plt.show()"
   ]
  },
  {
   "cell_type": "markdown",
   "metadata": {
    "id": "RTNPz0tkqunF"
   },
   "source": [
    "3. Виберіть оптимальний алгоритм. Зробіть візуалізацію."
   ]
  },
  {
   "cell_type": "code",
   "execution_count": null,
   "metadata": {
    "id": "wW2h1u-kqRng"
   },
   "outputs": [],
   "source": [
    "best_algorithm_index = np.argmin(rmse_values)\n",
    "best_algorithm = algorithms[best_algorithm_index]\n",
    "best_algorithm_name = algorithm_names[best_algorithm_index]\n",
    "\n",
    "print(f'Найкращий алгоритм: {best_algorithm_name}')"
   ]
  },
  {
   "cell_type": "markdown",
   "metadata": {
    "id": "eBHzOpGVqzDQ"
   },
   "source": [
    "4. Зробіть висновки."
   ]
  },
  {
   "cell_type": "code",
   "execution_count": null,
   "metadata": {
    "id": "KJqwu1jCqS74"
   },
   "outputs": [],
   "source": [
    "print(f\"Найкращий алгоритм рекомендації: {best_algorithm_name}\")\n",
    "print(f\"Середнє RMSE для {best_algorithm_name}: {rmse_values[best_algorithm_index]}\")"
   ]
  },
  {
   "cell_type": "markdown",
   "metadata": {
    "id": "F8PempTVrd1Q"
   },
   "source": [
    "Висновок. Під час практичної роботи 8 я розробив рекомендаційну систему на основі датасету movielens-100k за допомогою бібліотеки surprise. Для цього я використовував алгоритми SVD, SVDpp, NMF тощо. Для підбору найкращих параметрів для кожного алгоритму я використав крос-валідацію. На завершальному етапі я обчислив середнє значення середньоквадратичної помилки RMSE для кожного алгоритму на основі результатів крос-валідації та виконав візуалізацію.\n",
    "\n"
   ]
  }
 ],
 "metadata": {
  "colab": {
   "provenance": []
  },
  "kernelspec": {
   "display_name": "Python 3 (ipykernel)",
   "language": "python",
   "name": "python3"
  },
  "language_info": {
   "codemirror_mode": {
    "name": "ipython",
    "version": 3
   },
   "file_extension": ".py",
   "mimetype": "text/x-python",
   "name": "python",
   "nbconvert_exporter": "python",
   "pygments_lexer": "ipython3",
   "version": "3.11.5"
  }
 },
 "nbformat": 4,
 "nbformat_minor": 1
}
